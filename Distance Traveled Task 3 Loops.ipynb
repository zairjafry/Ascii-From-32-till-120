{
 "cells": [
  {
   "cell_type": "code",
   "execution_count": 9,
   "id": "8c0454d6",
   "metadata": {},
   "outputs": [
    {
     "name": "stdout",
     "output_type": "stream",
     "text": [
      "Enter Total time\n",
      "3\n",
      "Enter Average speed\n",
      "40\n",
      "Hours          Miles\n",
      "\n",
      "1          40\n",
      "2          80\n",
      "3          120\n"
     ]
    }
   ],
   "source": [
    "time=int(input(\"Enter Total time\\n\"))\n",
    "speed=int(input(\"Enter Average speed\\n\"))\n",
    "print((\"Hours          Miles\\n\"))\n",
    "for i in range(time):\n",
    "    i=i+1\n",
    "    print(i,\"        \",i*speed)\n"
   ]
  },
  {
   "cell_type": "code",
   "execution_count": null,
   "id": "6d6b2927",
   "metadata": {},
   "outputs": [],
   "source": []
  }
 ],
 "metadata": {
  "kernelspec": {
   "display_name": "Python 3 (ipykernel)",
   "language": "python",
   "name": "python3"
  },
  "language_info": {
   "codemirror_mode": {
    "name": "ipython",
    "version": 3
   },
   "file_extension": ".py",
   "mimetype": "text/x-python",
   "name": "python",
   "nbconvert_exporter": "python",
   "pygments_lexer": "ipython3",
   "version": "3.9.7"
  }
 },
 "nbformat": 4,
 "nbformat_minor": 5
}
