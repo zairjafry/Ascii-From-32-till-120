{
 "cells": [
  {
   "cell_type": "code",
   "execution_count": 3,
   "id": "7a59b73e",
   "metadata": {},
   "outputs": [
    {
     "name": "stdout",
     "output_type": "stream",
     "text": [
      "enter temperature in celcius \n",
      " 20\n",
      "Celcius:  0  Celcius:  32.0  Kelvin:  273.15\n",
      "Celcius:  1  Celcius:  33.8  Kelvin:  274.15\n",
      "Celcius:  2  Celcius:  35.6  Kelvin:  275.15\n",
      "Celcius:  3  Celcius:  37.4  Kelvin:  276.15\n",
      "Celcius:  4  Celcius:  39.2  Kelvin:  277.15\n",
      "Celcius:  5  Celcius:  41.0  Kelvin:  278.15\n",
      "Celcius:  6  Celcius:  42.8  Kelvin:  279.15\n",
      "Celcius:  7  Celcius:  44.6  Kelvin:  280.15\n",
      "Celcius:  8  Celcius:  46.4  Kelvin:  281.15\n",
      "Celcius:  9  Celcius:  48.2  Kelvin:  282.15\n",
      "Celcius:  10  Celcius:  50.0  Kelvin:  283.15\n",
      "Celcius:  11  Celcius:  51.8  Kelvin:  284.15\n",
      "Celcius:  12  Celcius:  53.6  Kelvin:  285.15\n",
      "Celcius:  13  Celcius:  55.4  Kelvin:  286.15\n",
      "Celcius:  14  Celcius:  57.2  Kelvin:  287.15\n",
      "Celcius:  15  Celcius:  59.0  Kelvin:  288.15\n",
      "Celcius:  16  Celcius:  60.8  Kelvin:  289.15\n",
      "Celcius:  17  Celcius:  62.6  Kelvin:  290.15\n",
      "Celcius:  18  Celcius:  64.4  Kelvin:  291.15\n",
      "Celcius:  19  Celcius:  66.2  Kelvin:  292.15\n"
     ]
    }
   ],
   "source": [
    "cel=int(input(\"enter temperature in celcius \\n \"))\n",
    "for i in range(cel):\n",
    "    print(\"Celcius: \",i,\" Celcius: \",i*9/5+32,\" Kelvin: \",i+ 273.15)\n",
    "    i=i+1\n"
   ]
  },
  {
   "cell_type": "code",
   "execution_count": null,
   "id": "9d7fb986",
   "metadata": {},
   "outputs": [],
   "source": []
  }
 ],
 "metadata": {
  "kernelspec": {
   "display_name": "Python 3 (ipykernel)",
   "language": "python",
   "name": "python3"
  },
  "language_info": {
   "codemirror_mode": {
    "name": "ipython",
    "version": 3
   },
   "file_extension": ".py",
   "mimetype": "text/x-python",
   "name": "python",
   "nbconvert_exporter": "python",
   "pygments_lexer": "ipython3",
   "version": "3.9.7"
  }
 },
 "nbformat": 4,
 "nbformat_minor": 5
}
